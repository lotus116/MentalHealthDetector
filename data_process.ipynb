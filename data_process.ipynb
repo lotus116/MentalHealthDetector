{
 "cells": [
  {
   "cell_type": "code",
   "execution_count": 2,
   "id": "1df8939a",
   "metadata": {},
   "outputs": [],
   "source": [
    "import pandas as pd\n",
    "import numpy as np"
   ]
  },
  {
   "cell_type": "code",
   "execution_count": 28,
   "id": "b69d695c",
   "metadata": {},
   "outputs": [
    {
     "data": {
      "text/html": [
       "<div>\n",
       "<style scoped>\n",
       "    .dataframe tbody tr th:only-of-type {\n",
       "        vertical-align: middle;\n",
       "    }\n",
       "\n",
       "    .dataframe tbody tr th {\n",
       "        vertical-align: top;\n",
       "    }\n",
       "\n",
       "    .dataframe thead th {\n",
       "        text-align: right;\n",
       "    }\n",
       "</style>\n",
       "<table border=\"1\" class=\"dataframe\">\n",
       "  <thead>\n",
       "    <tr style=\"text-align: right;\">\n",
       "      <th></th>\n",
       "      <th>translate_chinese</th>\n",
       "      <th>status</th>\n",
       "    </tr>\n",
       "  </thead>\n",
       "  <tbody>\n",
       "    <tr>\n",
       "      <th>0</th>\n",
       "      <td>这是健康焦虑症吗？1）每天量10次体温\\n2）每天量血压\\n3）每天称10次体重\\n觉得自己...</td>\n",
       "      <td>1</td>\n",
       "    </tr>\n",
       "    <tr>\n",
       "      <th>1</th>\n",
       "      <td>有没有什么办法能睡得更好？我大多数晚上都睡不着，药物也没有帮助。</td>\n",
       "      <td>1</td>\n",
       "    </tr>\n",
       "    <tr>\n",
       "      <th>2</th>\n",
       "      <td>拉莫三嗪？有没有人对拉莫三嗪有好评？</td>\n",
       "      <td>1</td>\n",
       "    </tr>\n",
       "    <tr>\n",
       "      <th>3</th>\n",
       "      <td>有人尝试过眼动脱敏与再加工疗法（EMDR）吗？我刚开始。如果有的话，你有什么想法？到目前为止...</td>\n",
       "      <td>1</td>\n",
       "    </tr>\n",
       "    <tr>\n",
       "      <th>4</th>\n",
       "      <td>我2018年5月的心电图会检测到这个吗？好担心！所以；昨天我在钻木头的时候，突然感觉左臂和胸...</td>\n",
       "      <td>1</td>\n",
       "    </tr>\n",
       "  </tbody>\n",
       "</table>\n",
       "</div>"
      ],
      "text/plain": [
       "                                   translate_chinese  status\n",
       "0  这是健康焦虑症吗？1）每天量10次体温\\n2）每天量血压\\n3）每天称10次体重\\n觉得自己...       1\n",
       "1                   有没有什么办法能睡得更好？我大多数晚上都睡不着，药物也没有帮助。       1\n",
       "2                                 拉莫三嗪？有没有人对拉莫三嗪有好评？       1\n",
       "3  有人尝试过眼动脱敏与再加工疗法（EMDR）吗？我刚开始。如果有的话，你有什么想法？到目前为止...       1\n",
       "4  我2018年5月的心电图会检测到这个吗？好担心！所以；昨天我在钻木头的时候，突然感觉左臂和胸...       1"
      ]
     },
     "execution_count": 28,
     "metadata": {},
     "output_type": "execute_result"
    }
   ],
   "source": [
    "data = pd.read_csv(\"./Combined Data_p_with_translation.csv\")\n",
    "data = data.loc[:,['translate_chinese','status']]\n",
    "# 重新映射status，Normal 为 0，其他为 1\n",
    "data[\"status\"] = data[\"status\"].apply(lambda x: 0 if x == \"Normal\" else 1)\n",
    "data.head(5)"
   ]
  },
  {
   "cell_type": "code",
   "execution_count": 29,
   "id": "52865309",
   "metadata": {},
   "outputs": [
    {
     "name": "stdout",
     "output_type": "stream",
     "text": [
      "<class 'pandas.core.frame.DataFrame'>\n",
      "RangeIndex: 5001 entries, 0 to 5000\n",
      "Data columns (total 2 columns):\n",
      " #   Column             Non-Null Count  Dtype \n",
      "---  ------             --------------  ----- \n",
      " 0   translate_chinese  5001 non-null   object\n",
      " 1   status             5001 non-null   int64 \n",
      "dtypes: int64(1), object(1)\n",
      "memory usage: 78.3+ KB\n"
     ]
    }
   ],
   "source": [
    "data.info()"
   ]
  },
  {
   "cell_type": "code",
   "execution_count": 27,
   "id": "15564c66",
   "metadata": {},
   "outputs": [
    {
     "data": {
      "text/plain": [
       "status\n",
       "1    3450\n",
       "0    1551\n",
       "Name: count, dtype: int64"
      ]
     },
     "execution_count": 27,
     "metadata": {},
     "output_type": "execute_result"
    }
   ],
   "source": [
    "data.status.value_counts()"
   ]
  },
  {
   "cell_type": "code",
   "execution_count": 30,
   "id": "289ca075",
   "metadata": {},
   "outputs": [
    {
     "name": "stdout",
     "output_type": "stream",
     "text": [
      "数据处理完成，已保存至 final_data.csv\n"
     ]
    }
   ],
   "source": [
    "# 保存处理后的数据\n",
    "data.to_csv(\"./final_data.csv\", index=False, encoding=\"utf-8\")\n",
    "\n",
    "print(\"数据处理完成，已保存至 final_data.csv\")"
   ]
  }
 ],
 "metadata": {
  "kernelspec": {
   "display_name": "mental_health",
   "language": "python",
   "name": "python3"
  },
  "language_info": {
   "codemirror_mode": {
    "name": "ipython",
    "version": 3
   },
   "file_extension": ".py",
   "mimetype": "text/x-python",
   "name": "python",
   "nbconvert_exporter": "python",
   "pygments_lexer": "ipython3",
   "version": "3.10.18"
  }
 },
 "nbformat": 4,
 "nbformat_minor": 5
}
